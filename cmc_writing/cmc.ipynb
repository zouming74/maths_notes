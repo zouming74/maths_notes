{
 "cells": [
  {
   "cell_type": "markdown",
   "metadata": {},
   "source": [
    "## 介绍\n",
    "这个文档我想专门用来记录我学习mooc和知乎上非数学cmc课程的过程。在这里可能会有一些时间安排以及一些心得和笔记。  \n",
    "\n",
    "然后我会在这里存放一些技巧性比较强的东西，至于比较详细的过程我会略掉。但是，我保留的东西就已经足够了。"
   ]
  },
  {
   "cell_type": "markdown",
   "metadata": {},
   "source": [
    "## Chapter 1  \n",
    "- $\\lim_{n \\rightarrow \\infty}(n!)^{\\frac{1}{n^2}}$  \n",
    "\n",
    "首先有夹逼不等式，$$0 \\le \\frac{1}{n^2}\\ln(n!)=\\frac{1}{n} \\frac{\\ln(1 \\times 2 \\cdots n)}{n}=\\frac{1}{n} (\\frac{\\ln 1}{n}+\\frac{\\ln 2}{n}+\\cdots +\\frac{\\ln n}{n}) \\\\\n",
    "\\le \\frac{1}{n} (\\frac{\\ln 1}{1}+\\frac{\\ln 2}{2}+\\cdots +\\frac{\\ln n}{n})$$  \n",
    "由极限的平均值可以得到，不等式右边的极限为0。这样中间的极限也是为0的."
   ]
  },
  {
   "cell_type": "markdown",
   "metadata": {},
   "source": []
  }
 ],
 "metadata": {
  "kernelspec": {
   "display_name": "Python 3.10.6 64-bit",
   "language": "python",
   "name": "python3"
  },
  "language_info": {
   "codemirror_mode": {
    "name": "ipython",
    "version": 3
   },
   "file_extension": ".py",
   "mimetype": "text/x-python",
   "name": "python",
   "nbconvert_exporter": "python",
   "pygments_lexer": "ipython3",
   "version": "3.10.6"
  },
  "orig_nbformat": 4,
  "vscode": {
   "interpreter": {
    "hash": "e425f3b541046685a106285ba65abdde361bacb6ac0fed49cc9c21c6fb3fd775"
   }
  }
 },
 "nbformat": 4,
 "nbformat_minor": 2
}
