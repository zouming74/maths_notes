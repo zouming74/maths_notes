{
 "cells": [
  {
   "cell_type": "markdown",
   "metadata": {},
   "source": [
    "## 介绍\n",
    "这个文档我想专门用来记录我学习mooc和知乎上非数学cmc课程的过程。在这里可能会有一些时间安排以及一些心得和笔记。  \n",
    "\n",
    "然后我会在这里存放一些技巧性比较强的东西，至于比较详细的过程我会略掉。但是，我保留的东西就已经足够了。\n",
    "\n",
    "突然想，如果我花费大量时间在记录上那么实际学习就显得相当吃力了。所以，我还是以自己写为准，然后这个文档就写一下来记录记录吧。"
   ]
  },
  {
   "cell_type": "markdown",
   "metadata": {},
   "source": []
  }
 ],
 "metadata": {
  "kernelspec": {
   "display_name": "Python 3.10.6 64-bit",
   "language": "python",
   "name": "python3"
  },
  "language_info": {
   "codemirror_mode": {
    "name": "ipython",
    "version": 3
   },
   "file_extension": ".py",
   "mimetype": "text/x-python",
   "name": "python",
   "nbconvert_exporter": "python",
   "pygments_lexer": "ipython3",
   "version": "3.10.6"
  },
  "orig_nbformat": 4,
  "vscode": {
   "interpreter": {
    "hash": "e425f3b541046685a106285ba65abdde361bacb6ac0fed49cc9c21c6fb3fd775"
   }
  }
 },
 "nbformat": 4,
 "nbformat_minor": 2
}
